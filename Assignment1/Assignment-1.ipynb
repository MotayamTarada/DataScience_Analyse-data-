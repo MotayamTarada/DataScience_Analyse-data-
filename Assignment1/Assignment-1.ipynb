{
 "cells": [
  {
   "cell_type": "markdown",
   "id": "bde654d2-939b-4213-880a-ba05d812467f",
   "metadata": {},
   "source": [
    "Assignment #1\n",
    "Name : Motayam Tarada \n",
    "Id : 1210299\n",
    "Dr: Hussien soubh"
   ]
  },
  {
   "cell_type": "code",
   "execution_count": null,
   "id": "26062cd6-68f4-4397-b889-a47845ed07ce",
   "metadata": {},
   "outputs": [],
   "source": [
    "#Identify the most expensive vegetables and fruits commodity during this period.\n",
    "import pandas as pd\n",
    "\n",
    "# Load the data from a CSV file\n",
    "df = pd.read_csv('assignment_1-python.csv')\n",
    "\n",
    "#data from file\n",
    "veg_fruit_df = df[df['category'].str.contains('vegetables and fruits')]\n",
    "\n",
    "# Find the most expensive vegetable and fruit \n",
    "most_expensive_veg_fruit = veg_fruit_df.loc[veg_fruit_df['usdprice'].idxmax()]\n",
    "\n",
    "print(\"Most expensive vegetable/fruit commodity:\")\n",
    "print(most_expensive_veg_fruit[['commodity', 'usdprice']])"
   ]
  },
  {
   "cell_type": "markdown",
   "id": "0af1509e-0592-478d-bbce-a7cd46ce0730",
   "metadata": {},
   "source": [
    "Most expensive vegetable/fruit commodity:\n",
    "commodity    Apples (red)\n",
    "usdprice           1.7703\n",
    "Name: 168, dtype: object"
   ]
  },
  {
   "cell_type": "code",
   "execution_count": null,
   "id": "cada532c-7049-49a0-a328-954c16191b1d",
   "metadata": {},
   "outputs": [],
   "source": [
    "#Add a new column named currency_rate that captures the exchange rate between the local currency and the US dollar (USD).\n",
    "import pandas as pd\n",
    "\n",
    "# Load the data from a CSV file\n",
    "df = pd.read_csv('assignment_1-python.csv')\n",
    "\n",
    "currancy = df['currency_rate'] = df['price'] / df['usdprice']\n",
    "\n",
    "print(currancy )"
   ]
  },
  {
   "cell_type": "markdown",
   "id": "fe13ad19-670f-4225-b701-68ec316a2ba8",
   "metadata": {},
   "source": [
    "0      3.150996\n",
    "1      3.150885\n",
    "2      3.151126\n",
    "3      3.151128\n",
    "4      3.151131\n",
    "         ...   \n",
    "349    3.419893\n",
    "350    3.419922\n",
    "351    3.419853\n",
    "352    3.420222\n",
    "353    3.420005\n",
    "Length: 354, dtype: float64"
   ]
  },
  {
   "cell_type": "code",
   "execution_count": null,
   "id": "e31719ea-6b05-4514-ba66-c016d45b90db",
   "metadata": {},
   "outputs": [],
   "source": [
    "#Create a new column called unified_price that represents the price in USD per\n",
    "#kilogram for commodities measured by weight and the price per liter for commodities measured by volume.\n",
    "import pandas as pd\n",
    "\n",
    "# Load the data from a CSV file\n",
    "df = pd.read_csv('assignment_1-python.csv')\n",
    "\n",
    "# Create 'unified_price' for USD price per kilogram or per liter\n",
    "df['unified_price'] = df.apply(\n",
    "    lambda row: row['usdprice'] / float(row['unit'].split()[0]) \n",
    "    if ('KG' in row['unit'].upper() or 'L' in row['unit'].upper()) \n",
    "    and row['unit'].split()[0].replace('.', '', 1).isdigit() else row['usdprice'], \n",
    "    axis=1\n",
    ")\n",
    "#the result\n",
    "print(df[['commodity', 'unit', 'usdprice', 'unified_price']].head())"
   ]
  },
  {
   "cell_type": "markdown",
   "id": "6815cd32-3b7f-4753-9fd7-617107732618",
   "metadata": {},
   "source": [
    "    commodity   unit  usdprice  unified_price\n",
    "0                            Bread     KG    0.7934       0.793400\n",
    "1           Potatoes (medium size)     KG    0.6157       0.615700\n",
    "2     Rice (small grain, imported)  25 KG   48.3351       1.933404\n",
    "3  Wheat flour (locally processed)  50 KG   28.5612       0.571224\n",
    "4                             Eggs   2 KG    3.7193       1.859650"
   ]
  },
  {
   "cell_type": "code",
   "execution_count": null,
   "id": "01046603-b133-4687-9a83-8e2201de006b",
   "metadata": {
    "scrolled": true
   },
   "outputs": [],
   "source": [
    "#Using the unified_price, find the maximum price reached during this period and for which commodity for both:\n",
    "#commodities measured by weight\n",
    "#commodities measured by volume\n",
    "\n",
    "import pandas as pd\n",
    "\n",
    "# Load the data from a CSV file\n",
    "df = pd.read_csv('assignment_1-python.csv')\n",
    "\n",
    "# Function to convert unit to a numeric value for 'KG' or 'L'\n",
    "def calculate_unified_price(row):\n",
    "    unit = row['unit']\n",
    "    price = row['usdprice']\n",
    "    \n",
    "    # Split the unit \n",
    "    unit_parts = unit.split()\n",
    "    \n",
    "    # If there is a number in the unit, use it; otherwise, keep the price as is\n",
    "    if len(unit_parts) > 1 and unit_parts[0].replace('.', '', 1).isdigit():\n",
    "        quantity = float(unit_parts[0])\n",
    "        if 'KG' in unit or 'L' in unit:\n",
    "            return price / quantity\n",
    "    return price\n",
    "\n",
    "df['unified_price'] = df.apply(calculate_unified_price, axis=1)\n",
    "\n",
    "weight_commodities = df[df['unit'].str.contains('KG') == True]\n",
    "\n",
    "# Find the commodity with the maximum 'unified_price' for weight\n",
    "if not weight_commodities.empty:\n",
    "    max_weight_commodity = weight_commodities.loc[weight_commodities['unified_price'].idxmax()]\n",
    "    print(\"Commodity with the maximum price by weight:\")\n",
    "    print(max_weight_commodity[['commodity', 'unified_price']])\n",
    "else:\n",
    "    print(\"No weight-based commodities found.\")\n",
    "\n",
    "volume_commodities = df[df['unit'].str.contains('L') == True]\n",
    "\n",
    "# Find the commodity with the maximum 'unified_price' for volume\n",
    "if not volume_commodities.empty:\n",
    "    max_volume_commodity = volume_commodities.loc[volume_commodities['unified_price'].idxmax()]\n",
    "    print(\"Commodity with the maximum price by volume:\")\n",
    "    print(max_volume_commodity[['commodity', 'unified_price']])\n",
    "else:\n",
    "    print(\"No volume-based commodities found.\")\n",
    "\n"
   ]
  },
  {
   "cell_type": "markdown",
   "id": "7b0882dd-0fa8-4389-9c9e-492bd90fea6a",
   "metadata": {},
   "source": [
    "Commodity with the maximum price by weight:\n",
    "commodity        Meat (goat, with bones)\n",
    "unified_price                    17.3144\n",
    "Name: 8, dtype: object\n",
    "Commodity with the maximum price by volume:\n",
    "commodity        Oil (maize)\n",
    "unified_price          3.192\n",
    "Name: 342, dtype: object"
   ]
  }
 ],
 "metadata": {
  "kernelspec": {
   "display_name": "Python 3 (ipykernel)",
   "language": "python",
   "name": "python3"
  },
  "language_info": {
   "codemirror_mode": {
    "name": "ipython",
    "version": 3
   },
   "file_extension": ".py",
   "mimetype": "text/x-python",
   "name": "python",
   "nbconvert_exporter": "python",
   "pygments_lexer": "ipython3",
   "version": "3.12.2"
  }
 },
 "nbformat": 4,
 "nbformat_minor": 5
}
